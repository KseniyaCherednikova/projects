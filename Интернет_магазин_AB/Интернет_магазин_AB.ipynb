{
 "cells": [
  {
   "cell_type": "markdown",
   "metadata": {},
   "source": [
    "### 1. Загрузка и исследование данных:"
   ]
  },
  {
   "cell_type": "code",
   "execution_count": 1,
   "metadata": {},
   "outputs": [],
   "source": [
    "# Библиотеки\n",
    "import pandas as pd\n",
    "from IPython.display import display \n",
    "import datetime as dt\n",
    "import matplotlib.pyplot as plt\n",
    "import matplotlib.dates as mdates\n",
    "import numpy as np\n",
    "import scipy.stats as stats\n",
    "import warnings as warning\n",
    "warning.filterwarnings('ignore')\n",
    "\n",
    "\n"
   ]
  },
  {
   "cell_type": "code",
   "execution_count": 2,
   "metadata": {},
   "outputs": [],
   "source": [
    "# Открываем файлы\n",
    "hypothesis = pd.read_csv('/datasets/hypothesis.csv')\n",
    "orders = pd.read_csv('/datasets/orders.csv')\n",
    "visitors = pd.read_csv('/datasets/visitors.csv')"
   ]
  },
  {
   "cell_type": "code",
   "execution_count": 3,
   "metadata": {},
   "outputs": [
    {
     "name": "stdout",
     "output_type": "stream",
     "text": [
      "<class 'pandas.core.frame.DataFrame'>\n",
      "RangeIndex: 9 entries, 0 to 8\n",
      "Data columns (total 5 columns):\n",
      "Hypothesis    9 non-null object\n",
      "Reach         9 non-null int64\n",
      "Impact        9 non-null int64\n",
      "Confidence    9 non-null int64\n",
      "Efforts       9 non-null int64\n",
      "dtypes: int64(4), object(1)\n",
      "memory usage: 488.0+ bytes\n"
     ]
    },
    {
     "data": {
      "text/html": [
       "<div>\n",
       "<style scoped>\n",
       "    .dataframe tbody tr th:only-of-type {\n",
       "        vertical-align: middle;\n",
       "    }\n",
       "\n",
       "    .dataframe tbody tr th {\n",
       "        vertical-align: top;\n",
       "    }\n",
       "\n",
       "    .dataframe thead th {\n",
       "        text-align: right;\n",
       "    }\n",
       "</style>\n",
       "<table border=\"1\" class=\"dataframe\">\n",
       "  <thead>\n",
       "    <tr style=\"text-align: right;\">\n",
       "      <th></th>\n",
       "      <th>Hypothesis</th>\n",
       "      <th>Reach</th>\n",
       "      <th>Impact</th>\n",
       "      <th>Confidence</th>\n",
       "      <th>Efforts</th>\n",
       "    </tr>\n",
       "  </thead>\n",
       "  <tbody>\n",
       "    <tr>\n",
       "      <td>0</td>\n",
       "      <td>Добавить два новых канала привлечения трафика,...</td>\n",
       "      <td>3</td>\n",
       "      <td>10</td>\n",
       "      <td>8</td>\n",
       "      <td>6</td>\n",
       "    </tr>\n",
       "    <tr>\n",
       "      <td>1</td>\n",
       "      <td>Запустить собственную службу доставки, что сок...</td>\n",
       "      <td>2</td>\n",
       "      <td>5</td>\n",
       "      <td>4</td>\n",
       "      <td>10</td>\n",
       "    </tr>\n",
       "    <tr>\n",
       "      <td>2</td>\n",
       "      <td>Добавить блоки рекомендаций товаров на сайт ин...</td>\n",
       "      <td>8</td>\n",
       "      <td>3</td>\n",
       "      <td>7</td>\n",
       "      <td>3</td>\n",
       "    </tr>\n",
       "    <tr>\n",
       "      <td>3</td>\n",
       "      <td>Изменить структура категорий, что увеличит кон...</td>\n",
       "      <td>8</td>\n",
       "      <td>3</td>\n",
       "      <td>3</td>\n",
       "      <td>8</td>\n",
       "    </tr>\n",
       "    <tr>\n",
       "      <td>4</td>\n",
       "      <td>Изменить цвет фона главной страницы, чтобы уве...</td>\n",
       "      <td>3</td>\n",
       "      <td>1</td>\n",
       "      <td>1</td>\n",
       "      <td>1</td>\n",
       "    </tr>\n",
       "    <tr>\n",
       "      <td>5</td>\n",
       "      <td>Добавить страницу отзывов клиентов о магазине,...</td>\n",
       "      <td>3</td>\n",
       "      <td>2</td>\n",
       "      <td>2</td>\n",
       "      <td>3</td>\n",
       "    </tr>\n",
       "    <tr>\n",
       "      <td>6</td>\n",
       "      <td>Показать на главной странице баннеры с актуаль...</td>\n",
       "      <td>5</td>\n",
       "      <td>3</td>\n",
       "      <td>8</td>\n",
       "      <td>3</td>\n",
       "    </tr>\n",
       "    <tr>\n",
       "      <td>7</td>\n",
       "      <td>Добавить форму подписки на все основные страни...</td>\n",
       "      <td>10</td>\n",
       "      <td>7</td>\n",
       "      <td>8</td>\n",
       "      <td>5</td>\n",
       "    </tr>\n",
       "    <tr>\n",
       "      <td>8</td>\n",
       "      <td>Запустить акцию, дающую скидку на товар в день...</td>\n",
       "      <td>1</td>\n",
       "      <td>9</td>\n",
       "      <td>9</td>\n",
       "      <td>5</td>\n",
       "    </tr>\n",
       "  </tbody>\n",
       "</table>\n",
       "</div>"
      ],
      "text/plain": [
       "                                          Hypothesis  Reach  Impact  \\\n",
       "0  Добавить два новых канала привлечения трафика,...      3      10   \n",
       "1  Запустить собственную службу доставки, что сок...      2       5   \n",
       "2  Добавить блоки рекомендаций товаров на сайт ин...      8       3   \n",
       "3  Изменить структура категорий, что увеличит кон...      8       3   \n",
       "4  Изменить цвет фона главной страницы, чтобы уве...      3       1   \n",
       "5  Добавить страницу отзывов клиентов о магазине,...      3       2   \n",
       "6  Показать на главной странице баннеры с актуаль...      5       3   \n",
       "7  Добавить форму подписки на все основные страни...     10       7   \n",
       "8  Запустить акцию, дающую скидку на товар в день...      1       9   \n",
       "\n",
       "   Confidence  Efforts  \n",
       "0           8        6  \n",
       "1           4       10  \n",
       "2           7        3  \n",
       "3           3        8  \n",
       "4           1        1  \n",
       "5           2        3  \n",
       "6           8        3  \n",
       "7           8        5  \n",
       "8           9        5  "
      ]
     },
     "metadata": {},
     "output_type": "display_data"
    }
   ],
   "source": [
    "# Основная информация о таблице\n",
    "hypothesis.info()\n",
    "display(hypothesis)"
   ]
  },
  {
   "cell_type": "code",
   "execution_count": 4,
   "metadata": {},
   "outputs": [],
   "source": [
    "# Переименуем столбцы\n",
    "hypothesis.columns = ['hypothesis', 'reach', 'impact', 'confidence', 'efforts']"
   ]
  },
  {
   "cell_type": "code",
   "execution_count": 5,
   "metadata": {},
   "outputs": [
    {
     "name": "stdout",
     "output_type": "stream",
     "text": [
      "<class 'pandas.core.frame.DataFrame'>\n",
      "RangeIndex: 1197 entries, 0 to 1196\n",
      "Data columns (total 5 columns):\n",
      "transactionId    1197 non-null int64\n",
      "visitorId        1197 non-null int64\n",
      "date             1197 non-null object\n",
      "revenue          1197 non-null int64\n",
      "group            1197 non-null object\n",
      "dtypes: int64(3), object(2)\n",
      "memory usage: 46.9+ KB\n"
     ]
    },
    {
     "data": {
      "text/html": [
       "<div>\n",
       "<style scoped>\n",
       "    .dataframe tbody tr th:only-of-type {\n",
       "        vertical-align: middle;\n",
       "    }\n",
       "\n",
       "    .dataframe tbody tr th {\n",
       "        vertical-align: top;\n",
       "    }\n",
       "\n",
       "    .dataframe thead th {\n",
       "        text-align: right;\n",
       "    }\n",
       "</style>\n",
       "<table border=\"1\" class=\"dataframe\">\n",
       "  <thead>\n",
       "    <tr style=\"text-align: right;\">\n",
       "      <th></th>\n",
       "      <th>transactionId</th>\n",
       "      <th>visitorId</th>\n",
       "      <th>date</th>\n",
       "      <th>revenue</th>\n",
       "      <th>group</th>\n",
       "    </tr>\n",
       "  </thead>\n",
       "  <tbody>\n",
       "    <tr>\n",
       "      <td>0</td>\n",
       "      <td>3667963787</td>\n",
       "      <td>3312258926</td>\n",
       "      <td>2019-08-15</td>\n",
       "      <td>1650</td>\n",
       "      <td>B</td>\n",
       "    </tr>\n",
       "    <tr>\n",
       "      <td>1</td>\n",
       "      <td>2804400009</td>\n",
       "      <td>3642806036</td>\n",
       "      <td>2019-08-15</td>\n",
       "      <td>730</td>\n",
       "      <td>B</td>\n",
       "    </tr>\n",
       "    <tr>\n",
       "      <td>2</td>\n",
       "      <td>2961555356</td>\n",
       "      <td>4069496402</td>\n",
       "      <td>2019-08-15</td>\n",
       "      <td>400</td>\n",
       "      <td>A</td>\n",
       "    </tr>\n",
       "    <tr>\n",
       "      <td>3</td>\n",
       "      <td>3797467345</td>\n",
       "      <td>1196621759</td>\n",
       "      <td>2019-08-15</td>\n",
       "      <td>9759</td>\n",
       "      <td>B</td>\n",
       "    </tr>\n",
       "    <tr>\n",
       "      <td>4</td>\n",
       "      <td>2282983706</td>\n",
       "      <td>2322279887</td>\n",
       "      <td>2019-08-15</td>\n",
       "      <td>2308</td>\n",
       "      <td>B</td>\n",
       "    </tr>\n",
       "  </tbody>\n",
       "</table>\n",
       "</div>"
      ],
      "text/plain": [
       "   transactionId   visitorId        date  revenue group\n",
       "0     3667963787  3312258926  2019-08-15     1650     B\n",
       "1     2804400009  3642806036  2019-08-15      730     B\n",
       "2     2961555356  4069496402  2019-08-15      400     A\n",
       "3     3797467345  1196621759  2019-08-15     9759     B\n",
       "4     2282983706  2322279887  2019-08-15     2308     B"
      ]
     },
     "metadata": {},
     "output_type": "display_data"
    }
   ],
   "source": [
    "# Основная информация о таблице\n",
    "orders.info()\n",
    "display(orders.head())"
   ]
  },
  {
   "cell_type": "code",
   "execution_count": 6,
   "metadata": {},
   "outputs": [],
   "source": [
    "# Переименуем столбцы\n",
    "orders.columns = ['transaction_id', 'visitor_id', 'date', 'revenue', 'group']"
   ]
  },
  {
   "cell_type": "code",
   "execution_count": 7,
   "metadata": {},
   "outputs": [
    {
     "data": {
      "text/plain": [
       "0"
      ]
     },
     "execution_count": 7,
     "metadata": {},
     "output_type": "execute_result"
    }
   ],
   "source": [
    "# Проверка на дубликаты\n",
    "orders.duplicated().sum()"
   ]
  },
  {
   "cell_type": "code",
   "execution_count": 8,
   "metadata": {},
   "outputs": [
    {
     "name": "stdout",
     "output_type": "stream",
     "text": [
      "<class 'pandas.core.frame.DataFrame'>\n",
      "RangeIndex: 62 entries, 0 to 61\n",
      "Data columns (total 3 columns):\n",
      "date        62 non-null object\n",
      "group       62 non-null object\n",
      "visitors    62 non-null int64\n",
      "dtypes: int64(1), object(2)\n",
      "memory usage: 1.6+ KB\n"
     ]
    },
    {
     "data": {
      "text/html": [
       "<div>\n",
       "<style scoped>\n",
       "    .dataframe tbody tr th:only-of-type {\n",
       "        vertical-align: middle;\n",
       "    }\n",
       "\n",
       "    .dataframe tbody tr th {\n",
       "        vertical-align: top;\n",
       "    }\n",
       "\n",
       "    .dataframe thead th {\n",
       "        text-align: right;\n",
       "    }\n",
       "</style>\n",
       "<table border=\"1\" class=\"dataframe\">\n",
       "  <thead>\n",
       "    <tr style=\"text-align: right;\">\n",
       "      <th></th>\n",
       "      <th>date</th>\n",
       "      <th>group</th>\n",
       "      <th>visitors</th>\n",
       "    </tr>\n",
       "  </thead>\n",
       "  <tbody>\n",
       "    <tr>\n",
       "      <td>24</td>\n",
       "      <td>2019-08-25</td>\n",
       "      <td>A</td>\n",
       "      <td>621</td>\n",
       "    </tr>\n",
       "    <tr>\n",
       "      <td>55</td>\n",
       "      <td>2019-08-25</td>\n",
       "      <td>B</td>\n",
       "      <td>679</td>\n",
       "    </tr>\n",
       "    <tr>\n",
       "      <td>10</td>\n",
       "      <td>2019-08-11</td>\n",
       "      <td>A</td>\n",
       "      <td>718</td>\n",
       "    </tr>\n",
       "    <tr>\n",
       "      <td>23</td>\n",
       "      <td>2019-08-24</td>\n",
       "      <td>A</td>\n",
       "      <td>395</td>\n",
       "    </tr>\n",
       "    <tr>\n",
       "      <td>32</td>\n",
       "      <td>2019-08-02</td>\n",
       "      <td>B</td>\n",
       "      <td>581</td>\n",
       "    </tr>\n",
       "    <tr>\n",
       "      <td>49</td>\n",
       "      <td>2019-08-19</td>\n",
       "      <td>B</td>\n",
       "      <td>487</td>\n",
       "    </tr>\n",
       "    <tr>\n",
       "      <td>4</td>\n",
       "      <td>2019-08-05</td>\n",
       "      <td>A</td>\n",
       "      <td>756</td>\n",
       "    </tr>\n",
       "    <tr>\n",
       "      <td>53</td>\n",
       "      <td>2019-08-23</td>\n",
       "      <td>B</td>\n",
       "      <td>546</td>\n",
       "    </tr>\n",
       "    <tr>\n",
       "      <td>18</td>\n",
       "      <td>2019-08-19</td>\n",
       "      <td>A</td>\n",
       "      <td>502</td>\n",
       "    </tr>\n",
       "    <tr>\n",
       "      <td>40</td>\n",
       "      <td>2019-08-10</td>\n",
       "      <td>B</td>\n",
       "      <td>369</td>\n",
       "    </tr>\n",
       "  </tbody>\n",
       "</table>\n",
       "</div>"
      ],
      "text/plain": [
       "          date group  visitors\n",
       "24  2019-08-25     A       621\n",
       "55  2019-08-25     B       679\n",
       "10  2019-08-11     A       718\n",
       "23  2019-08-24     A       395\n",
       "32  2019-08-02     B       581\n",
       "49  2019-08-19     B       487\n",
       "4   2019-08-05     A       756\n",
       "53  2019-08-23     B       546\n",
       "18  2019-08-19     A       502\n",
       "40  2019-08-10     B       369"
      ]
     },
     "metadata": {},
     "output_type": "display_data"
    }
   ],
   "source": [
    "# Основная информация о таблице\n",
    "visitors.info()\n",
    "display(visitors.sample(10))"
   ]
  },
  {
   "cell_type": "code",
   "execution_count": 9,
   "metadata": {},
   "outputs": [
    {
     "data": {
      "text/plain": [
       "0"
      ]
     },
     "execution_count": 9,
     "metadata": {},
     "output_type": "execute_result"
    }
   ],
   "source": [
    "# Проверка на дубликаты\n",
    "visitors.duplicated().sum()"
   ]
  },
  {
   "cell_type": "markdown",
   "metadata": {},
   "source": [
    "##### Выводы"
   ]
  },
  {
   "cell_type": "markdown",
   "metadata": {},
   "source": [
    "Даны для работы три файла. Пропусков в данных нет, для удобства были переименованны столбцы. Столбцы с датами имеют тип данных 'object'."
   ]
  },
  {
   "cell_type": "markdown",
   "metadata": {},
   "source": [
    "### 2. Приоритизация гипотез"
   ]
  },
  {
   "cell_type": "markdown",
   "metadata": {},
   "source": [
    "#### 2.1 Применим фреймворк ICE для приоритизации гипотез\n",
    "Отсортируйте их по убыванию приоритета."
   ]
  },
  {
   "cell_type": "code",
   "execution_count": 10,
   "metadata": {},
   "outputs": [
    {
     "data": {
      "text/html": [
       "<div>\n",
       "<style scoped>\n",
       "    .dataframe tbody tr th:only-of-type {\n",
       "        vertical-align: middle;\n",
       "    }\n",
       "\n",
       "    .dataframe tbody tr th {\n",
       "        vertical-align: top;\n",
       "    }\n",
       "\n",
       "    .dataframe thead th {\n",
       "        text-align: right;\n",
       "    }\n",
       "</style>\n",
       "<table border=\"1\" class=\"dataframe\">\n",
       "  <thead>\n",
       "    <tr style=\"text-align: right;\">\n",
       "      <th></th>\n",
       "      <th>hypothesis</th>\n",
       "      <th>ice</th>\n",
       "    </tr>\n",
       "  </thead>\n",
       "  <tbody>\n",
       "    <tr>\n",
       "      <td>8</td>\n",
       "      <td>Запустить акцию, дающую скидку на товар в день рождения</td>\n",
       "      <td>16</td>\n",
       "    </tr>\n",
       "    <tr>\n",
       "      <td>0</td>\n",
       "      <td>Добавить два новых канала привлечения трафика, что позволит привлекать на 30% больше пользователей</td>\n",
       "      <td>13</td>\n",
       "    </tr>\n",
       "    <tr>\n",
       "      <td>7</td>\n",
       "      <td>Добавить форму подписки на все основные страницы, чтобы собрать базу клиентов для email-рассылок</td>\n",
       "      <td>11</td>\n",
       "    </tr>\n",
       "    <tr>\n",
       "      <td>6</td>\n",
       "      <td>Показать на главной странице баннеры с актуальными акциями и распродажами, чтобы увеличить конверсию</td>\n",
       "      <td>8</td>\n",
       "    </tr>\n",
       "    <tr>\n",
       "      <td>2</td>\n",
       "      <td>Добавить блоки рекомендаций товаров на сайт интернет магазина, чтобы повысить конверсию и средний чек заказа</td>\n",
       "      <td>7</td>\n",
       "    </tr>\n",
       "    <tr>\n",
       "      <td>1</td>\n",
       "      <td>Запустить собственную службу доставки, что сократит срок доставки заказов</td>\n",
       "      <td>2</td>\n",
       "    </tr>\n",
       "    <tr>\n",
       "      <td>3</td>\n",
       "      <td>Изменить структура категорий, что увеличит конверсию, т.к. пользователи быстрее найдут нужный товар</td>\n",
       "      <td>1</td>\n",
       "    </tr>\n",
       "    <tr>\n",
       "      <td>4</td>\n",
       "      <td>Изменить цвет фона главной страницы, чтобы увеличить вовлеченность пользователей</td>\n",
       "      <td>1</td>\n",
       "    </tr>\n",
       "    <tr>\n",
       "      <td>5</td>\n",
       "      <td>Добавить страницу отзывов клиентов о магазине, что позволит увеличить количество заказов</td>\n",
       "      <td>1</td>\n",
       "    </tr>\n",
       "  </tbody>\n",
       "</table>\n",
       "</div>"
      ],
      "text/plain": [
       "                                                                                                     hypothesis  \\\n",
       "8                                                       Запустить акцию, дающую скидку на товар в день рождения   \n",
       "0            Добавить два новых канала привлечения трафика, что позволит привлекать на 30% больше пользователей   \n",
       "7              Добавить форму подписки на все основные страницы, чтобы собрать базу клиентов для email-рассылок   \n",
       "6          Показать на главной странице баннеры с актуальными акциями и распродажами, чтобы увеличить конверсию   \n",
       "2  Добавить блоки рекомендаций товаров на сайт интернет магазина, чтобы повысить конверсию и средний чек заказа   \n",
       "1                                     Запустить собственную службу доставки, что сократит срок доставки заказов   \n",
       "3           Изменить структура категорий, что увеличит конверсию, т.к. пользователи быстрее найдут нужный товар   \n",
       "4                              Изменить цвет фона главной страницы, чтобы увеличить вовлеченность пользователей   \n",
       "5                      Добавить страницу отзывов клиентов о магазине, что позволит увеличить количество заказов   \n",
       "\n",
       "   ice  \n",
       "8   16  \n",
       "0   13  \n",
       "7   11  \n",
       "6    8  \n",
       "2    7  \n",
       "1    2  \n",
       "3    1  \n",
       "4    1  \n",
       "5    1  "
      ]
     },
     "metadata": {},
     "output_type": "display_data"
    }
   ],
   "source": [
    "hypothesis['ice'] = (hypothesis['impact'] * hypothesis['confidence'] / hypothesis['efforts']).round().astype('int')\n",
    "pd.set_option('display.max_colwidth', 500)\n",
    "display(hypothesis[['hypothesis','ice']].sort_values(by = 'ice', ascending = False))\n"
   ]
  },
  {
   "cell_type": "markdown",
   "metadata": {},
   "source": [
    "##### Выводы"
   ]
  },
  {
   "cell_type": "markdown",
   "metadata": {},
   "source": [
    "По фремворку ICE лидируют гипотезы 8, 0 , 7"
   ]
  },
  {
   "cell_type": "markdown",
   "metadata": {},
   "source": [
    "#### 2.2 Применим фреймворк RICE для приоритизации гипотез\n",
    "Отсортируйте их по убыванию приоритета."
   ]
  },
  {
   "cell_type": "code",
   "execution_count": 11,
   "metadata": {},
   "outputs": [
    {
     "data": {
      "text/html": [
       "<div>\n",
       "<style scoped>\n",
       "    .dataframe tbody tr th:only-of-type {\n",
       "        vertical-align: middle;\n",
       "    }\n",
       "\n",
       "    .dataframe tbody tr th {\n",
       "        vertical-align: top;\n",
       "    }\n",
       "\n",
       "    .dataframe thead th {\n",
       "        text-align: right;\n",
       "    }\n",
       "</style>\n",
       "<table border=\"1\" class=\"dataframe\">\n",
       "  <thead>\n",
       "    <tr style=\"text-align: right;\">\n",
       "      <th></th>\n",
       "      <th>hypothesis</th>\n",
       "      <th>rice</th>\n",
       "    </tr>\n",
       "  </thead>\n",
       "  <tbody>\n",
       "    <tr>\n",
       "      <td>7</td>\n",
       "      <td>Добавить форму подписки на все основные страницы, чтобы собрать базу клиентов для email-рассылок</td>\n",
       "      <td>112</td>\n",
       "    </tr>\n",
       "    <tr>\n",
       "      <td>2</td>\n",
       "      <td>Добавить блоки рекомендаций товаров на сайт интернет магазина, чтобы повысить конверсию и средний чек заказа</td>\n",
       "      <td>56</td>\n",
       "    </tr>\n",
       "    <tr>\n",
       "      <td>0</td>\n",
       "      <td>Добавить два новых канала привлечения трафика, что позволит привлекать на 30% больше пользователей</td>\n",
       "      <td>40</td>\n",
       "    </tr>\n",
       "    <tr>\n",
       "      <td>6</td>\n",
       "      <td>Показать на главной странице баннеры с актуальными акциями и распродажами, чтобы увеличить конверсию</td>\n",
       "      <td>40</td>\n",
       "    </tr>\n",
       "    <tr>\n",
       "      <td>8</td>\n",
       "      <td>Запустить акцию, дающую скидку на товар в день рождения</td>\n",
       "      <td>16</td>\n",
       "    </tr>\n",
       "    <tr>\n",
       "      <td>3</td>\n",
       "      <td>Изменить структура категорий, что увеличит конверсию, т.к. пользователи быстрее найдут нужный товар</td>\n",
       "      <td>9</td>\n",
       "    </tr>\n",
       "    <tr>\n",
       "      <td>1</td>\n",
       "      <td>Запустить собственную службу доставки, что сократит срок доставки заказов</td>\n",
       "      <td>4</td>\n",
       "    </tr>\n",
       "    <tr>\n",
       "      <td>5</td>\n",
       "      <td>Добавить страницу отзывов клиентов о магазине, что позволит увеличить количество заказов</td>\n",
       "      <td>4</td>\n",
       "    </tr>\n",
       "    <tr>\n",
       "      <td>4</td>\n",
       "      <td>Изменить цвет фона главной страницы, чтобы увеличить вовлеченность пользователей</td>\n",
       "      <td>3</td>\n",
       "    </tr>\n",
       "  </tbody>\n",
       "</table>\n",
       "</div>"
      ],
      "text/plain": [
       "                                                                                                     hypothesis  \\\n",
       "7              Добавить форму подписки на все основные страницы, чтобы собрать базу клиентов для email-рассылок   \n",
       "2  Добавить блоки рекомендаций товаров на сайт интернет магазина, чтобы повысить конверсию и средний чек заказа   \n",
       "0            Добавить два новых канала привлечения трафика, что позволит привлекать на 30% больше пользователей   \n",
       "6          Показать на главной странице баннеры с актуальными акциями и распродажами, чтобы увеличить конверсию   \n",
       "8                                                       Запустить акцию, дающую скидку на товар в день рождения   \n",
       "3           Изменить структура категорий, что увеличит конверсию, т.к. пользователи быстрее найдут нужный товар   \n",
       "1                                     Запустить собственную службу доставки, что сократит срок доставки заказов   \n",
       "5                      Добавить страницу отзывов клиентов о магазине, что позволит увеличить количество заказов   \n",
       "4                              Изменить цвет фона главной страницы, чтобы увеличить вовлеченность пользователей   \n",
       "\n",
       "   rice  \n",
       "7   112  \n",
       "2    56  \n",
       "0    40  \n",
       "6    40  \n",
       "8    16  \n",
       "3     9  \n",
       "1     4  \n",
       "5     4  \n",
       "4     3  "
      ]
     },
     "metadata": {},
     "output_type": "display_data"
    }
   ],
   "source": [
    "hypothesis['rice'] = (hypothesis['reach'] * hypothesis['impact'] * hypothesis['confidence'] / hypothesis['efforts']).astype('int')\n",
    "pd.set_option('display.max_colwidth', 500)\n",
    "display(hypothesis[['hypothesis','rice']].sort_values(by = 'rice', ascending = False))"
   ]
  },
  {
   "cell_type": "markdown",
   "metadata": {},
   "source": [
    "##### Выводы"
   ]
  },
  {
   "cell_type": "markdown",
   "metadata": {},
   "source": [
    "По фремворку RICE лидируют гипотезы 7, 2 , 0 и 6"
   ]
  },
  {
   "cell_type": "markdown",
   "metadata": {},
   "source": [
    "#### 2.3 Как изменилась приоритизация гипотез при применении RICE вместо ICE? Объясните, почему так произошло."
   ]
  },
  {
   "cell_type": "markdown",
   "metadata": {},
   "source": [
    "##### Выводы"
   ]
  },
  {
   "cell_type": "markdown",
   "metadata": {},
   "source": [
    "Приоритизация при применении RICE вместо ICE изменилась очередностью гипотез. Если в показателях ICE приоритизация рассчитывается теоретически, то  данные RICE показывают более реальную ситуацию с учетом количества клиентов, чьих интересов это коснется."
   ]
  },
  {
   "cell_type": "markdown",
   "metadata": {},
   "source": [
    "### 3. Анализ A/B-теста"
   ]
  },
  {
   "cell_type": "markdown",
   "metadata": {},
   "source": [
    "#### 3.1 График кумулятивной выручки по группам"
   ]
  },
  {
   "cell_type": "code",
   "execution_count": 12,
   "metadata": {},
   "outputs": [
    {
     "data": {
      "text/html": [
       "<div>\n",
       "<style scoped>\n",
       "    .dataframe tbody tr th:only-of-type {\n",
       "        vertical-align: middle;\n",
       "    }\n",
       "\n",
       "    .dataframe tbody tr th {\n",
       "        vertical-align: top;\n",
       "    }\n",
       "\n",
       "    .dataframe thead th {\n",
       "        text-align: right;\n",
       "    }\n",
       "</style>\n",
       "<table border=\"1\" class=\"dataframe\">\n",
       "  <thead>\n",
       "    <tr style=\"text-align: right;\">\n",
       "      <th></th>\n",
       "      <th>transaction_id</th>\n",
       "      <th>visitor_id</th>\n",
       "      <th>date</th>\n",
       "      <th>revenue</th>\n",
       "      <th>group</th>\n",
       "    </tr>\n",
       "  </thead>\n",
       "  <tbody>\n",
       "    <tr>\n",
       "      <td>0</td>\n",
       "      <td>3667963787</td>\n",
       "      <td>3312258926</td>\n",
       "      <td>2019-08-15</td>\n",
       "      <td>1650</td>\n",
       "      <td>B</td>\n",
       "    </tr>\n",
       "    <tr>\n",
       "      <td>1</td>\n",
       "      <td>2804400009</td>\n",
       "      <td>3642806036</td>\n",
       "      <td>2019-08-15</td>\n",
       "      <td>730</td>\n",
       "      <td>B</td>\n",
       "    </tr>\n",
       "    <tr>\n",
       "      <td>2</td>\n",
       "      <td>2961555356</td>\n",
       "      <td>4069496402</td>\n",
       "      <td>2019-08-15</td>\n",
       "      <td>400</td>\n",
       "      <td>A</td>\n",
       "    </tr>\n",
       "    <tr>\n",
       "      <td>3</td>\n",
       "      <td>3797467345</td>\n",
       "      <td>1196621759</td>\n",
       "      <td>2019-08-15</td>\n",
       "      <td>9759</td>\n",
       "      <td>B</td>\n",
       "    </tr>\n",
       "    <tr>\n",
       "      <td>4</td>\n",
       "      <td>2282983706</td>\n",
       "      <td>2322279887</td>\n",
       "      <td>2019-08-15</td>\n",
       "      <td>2308</td>\n",
       "      <td>B</td>\n",
       "    </tr>\n",
       "  </tbody>\n",
       "</table>\n",
       "</div>"
      ],
      "text/plain": [
       "   transaction_id  visitor_id       date  revenue group\n",
       "0      3667963787  3312258926 2019-08-15     1650     B\n",
       "1      2804400009  3642806036 2019-08-15      730     B\n",
       "2      2961555356  4069496402 2019-08-15      400     A\n",
       "3      3797467345  1196621759 2019-08-15     9759     B\n",
       "4      2282983706  2322279887 2019-08-15     2308     B"
      ]
     },
     "metadata": {},
     "output_type": "display_data"
    }
   ],
   "source": [
    "orders['date'] = orders['date'].map(lambda x: dt.datetime.strptime(x, '%Y-%m-%d'))\n",
    "visitors['date'] = visitors['date'].map(lambda x: dt.datetime.strptime(x, '%Y-%m-%d'))\n",
    "display(orders.head())"
   ]
  },
  {
   "cell_type": "code",
   "execution_count": 13,
   "metadata": {},
   "outputs": [],
   "source": [
    "dates_groups = orders[['date','group']].drop_duplicates() "
   ]
  },
  {
   "cell_type": "code",
   "execution_count": 14,
   "metadata": {},
   "outputs": [
    {
     "data": {
      "text/html": [
       "<div>\n",
       "<style scoped>\n",
       "    .dataframe tbody tr th:only-of-type {\n",
       "        vertical-align: middle;\n",
       "    }\n",
       "\n",
       "    .dataframe tbody tr th {\n",
       "        vertical-align: top;\n",
       "    }\n",
       "\n",
       "    .dataframe thead th {\n",
       "        text-align: right;\n",
       "    }\n",
       "</style>\n",
       "<table border=\"1\" class=\"dataframe\">\n",
       "  <thead>\n",
       "    <tr style=\"text-align: right;\">\n",
       "      <th></th>\n",
       "      <th>date</th>\n",
       "      <th>group</th>\n",
       "      <th>transaction_id</th>\n",
       "      <th>visitor_id</th>\n",
       "      <th>revenue</th>\n",
       "    </tr>\n",
       "  </thead>\n",
       "  <tbody>\n",
       "    <tr>\n",
       "      <td>55</td>\n",
       "      <td>2019-08-01</td>\n",
       "      <td>A</td>\n",
       "      <td>24</td>\n",
       "      <td>20</td>\n",
       "      <td>148579</td>\n",
       "    </tr>\n",
       "    <tr>\n",
       "      <td>66</td>\n",
       "      <td>2019-08-01</td>\n",
       "      <td>B</td>\n",
       "      <td>21</td>\n",
       "      <td>20</td>\n",
       "      <td>101217</td>\n",
       "    </tr>\n",
       "    <tr>\n",
       "      <td>175</td>\n",
       "      <td>2019-08-02</td>\n",
       "      <td>A</td>\n",
       "      <td>44</td>\n",
       "      <td>38</td>\n",
       "      <td>242401</td>\n",
       "    </tr>\n",
       "    <tr>\n",
       "      <td>173</td>\n",
       "      <td>2019-08-02</td>\n",
       "      <td>B</td>\n",
       "      <td>45</td>\n",
       "      <td>43</td>\n",
       "      <td>266748</td>\n",
       "    </tr>\n",
       "    <tr>\n",
       "      <td>291</td>\n",
       "      <td>2019-08-03</td>\n",
       "      <td>A</td>\n",
       "      <td>68</td>\n",
       "      <td>62</td>\n",
       "      <td>354874</td>\n",
       "    </tr>\n",
       "  </tbody>\n",
       "</table>\n",
       "</div>"
      ],
      "text/plain": [
       "          date group  transaction_id  visitor_id  revenue\n",
       "55  2019-08-01     A              24          20   148579\n",
       "66  2019-08-01     B              21          20   101217\n",
       "175 2019-08-02     A              44          38   242401\n",
       "173 2019-08-02     B              45          43   266748\n",
       "291 2019-08-03     A              68          62   354874"
      ]
     },
     "metadata": {},
     "output_type": "display_data"
    }
   ],
   "source": [
    "#кумулятивные данные о заказах по дням  \n",
    "orders_aggregated = dates_groups.apply(\n",
    "    lambda x: orders[np.logical_and(\n",
    "        orders['date'] <= x['date'], \n",
    "        orders['group'] == x['group'])]\\\n",
    ".agg({'date' : 'max', 'group' : 'max', \n",
    "      'transaction_id' : pd.Series.nunique, \n",
    "      'visitor_id' : pd.Series.nunique, \n",
    "      'revenue' : 'sum'}), axis=1).sort_values(by=['date','group']) \n",
    "display(orders_aggregated.head())"
   ]
  },
  {
   "cell_type": "code",
   "execution_count": 15,
   "metadata": {},
   "outputs": [
    {
     "data": {
      "text/html": [
       "<div>\n",
       "<style scoped>\n",
       "    .dataframe tbody tr th:only-of-type {\n",
       "        vertical-align: middle;\n",
       "    }\n",
       "\n",
       "    .dataframe tbody tr th {\n",
       "        vertical-align: top;\n",
       "    }\n",
       "\n",
       "    .dataframe thead th {\n",
       "        text-align: right;\n",
       "    }\n",
       "</style>\n",
       "<table border=\"1\" class=\"dataframe\">\n",
       "  <thead>\n",
       "    <tr style=\"text-align: right;\">\n",
       "      <th></th>\n",
       "      <th>date</th>\n",
       "      <th>group</th>\n",
       "      <th>visitors</th>\n",
       "    </tr>\n",
       "  </thead>\n",
       "  <tbody>\n",
       "    <tr>\n",
       "      <td>55</td>\n",
       "      <td>2019-08-01</td>\n",
       "      <td>A</td>\n",
       "      <td>719</td>\n",
       "    </tr>\n",
       "    <tr>\n",
       "      <td>66</td>\n",
       "      <td>2019-08-01</td>\n",
       "      <td>B</td>\n",
       "      <td>713</td>\n",
       "    </tr>\n",
       "    <tr>\n",
       "      <td>175</td>\n",
       "      <td>2019-08-02</td>\n",
       "      <td>A</td>\n",
       "      <td>1338</td>\n",
       "    </tr>\n",
       "    <tr>\n",
       "      <td>173</td>\n",
       "      <td>2019-08-02</td>\n",
       "      <td>B</td>\n",
       "      <td>1294</td>\n",
       "    </tr>\n",
       "    <tr>\n",
       "      <td>291</td>\n",
       "      <td>2019-08-03</td>\n",
       "      <td>A</td>\n",
       "      <td>1845</td>\n",
       "    </tr>\n",
       "  </tbody>\n",
       "</table>\n",
       "</div>"
      ],
      "text/plain": [
       "          date group  visitors\n",
       "55  2019-08-01     A       719\n",
       "66  2019-08-01     B       713\n",
       "175 2019-08-02     A      1338\n",
       "173 2019-08-02     B      1294\n",
       "291 2019-08-03     A      1845"
      ]
     },
     "metadata": {},
     "output_type": "display_data"
    }
   ],
   "source": [
    "#кумулятивные данные о визитах по дням  \n",
    "visitors_aggregated = dates_groups.apply(\n",
    "    lambda x: visitors[np.logical_and(\n",
    "        visitors['date'] <= x['date'], \n",
    "        visitors['group'] == x['group'])]\\\n",
    ".agg({'date' : 'max', 'group' : 'max', \n",
    "      'visitors' : 'sum'}), axis=1).sort_values(by=['date','group']) \n",
    "display(visitors_aggregated.head())"
   ]
  },
  {
   "cell_type": "code",
   "execution_count": 16,
   "metadata": {},
   "outputs": [
    {
     "data": {
      "text/html": [
       "<div>\n",
       "<style scoped>\n",
       "    .dataframe tbody tr th:only-of-type {\n",
       "        vertical-align: middle;\n",
       "    }\n",
       "\n",
       "    .dataframe tbody tr th {\n",
       "        vertical-align: top;\n",
       "    }\n",
       "\n",
       "    .dataframe thead th {\n",
       "        text-align: right;\n",
       "    }\n",
       "</style>\n",
       "<table border=\"1\" class=\"dataframe\">\n",
       "  <thead>\n",
       "    <tr style=\"text-align: right;\">\n",
       "      <th></th>\n",
       "      <th>date</th>\n",
       "      <th>group</th>\n",
       "      <th>orders</th>\n",
       "      <th>buyers</th>\n",
       "      <th>revenue</th>\n",
       "      <th>visitors</th>\n",
       "    </tr>\n",
       "  </thead>\n",
       "  <tbody>\n",
       "    <tr>\n",
       "      <td>0</td>\n",
       "      <td>2019-08-01</td>\n",
       "      <td>A</td>\n",
       "      <td>24</td>\n",
       "      <td>20</td>\n",
       "      <td>148579</td>\n",
       "      <td>719</td>\n",
       "    </tr>\n",
       "    <tr>\n",
       "      <td>1</td>\n",
       "      <td>2019-08-01</td>\n",
       "      <td>B</td>\n",
       "      <td>21</td>\n",
       "      <td>20</td>\n",
       "      <td>101217</td>\n",
       "      <td>713</td>\n",
       "    </tr>\n",
       "    <tr>\n",
       "      <td>2</td>\n",
       "      <td>2019-08-02</td>\n",
       "      <td>A</td>\n",
       "      <td>44</td>\n",
       "      <td>38</td>\n",
       "      <td>242401</td>\n",
       "      <td>1338</td>\n",
       "    </tr>\n",
       "    <tr>\n",
       "      <td>3</td>\n",
       "      <td>2019-08-02</td>\n",
       "      <td>B</td>\n",
       "      <td>45</td>\n",
       "      <td>43</td>\n",
       "      <td>266748</td>\n",
       "      <td>1294</td>\n",
       "    </tr>\n",
       "    <tr>\n",
       "      <td>4</td>\n",
       "      <td>2019-08-03</td>\n",
       "      <td>A</td>\n",
       "      <td>68</td>\n",
       "      <td>62</td>\n",
       "      <td>354874</td>\n",
       "      <td>1845</td>\n",
       "    </tr>\n",
       "  </tbody>\n",
       "</table>\n",
       "</div>"
      ],
      "text/plain": [
       "        date group  orders  buyers  revenue  visitors\n",
       "0 2019-08-01     A      24      20   148579       719\n",
       "1 2019-08-01     B      21      20   101217       713\n",
       "2 2019-08-02     A      44      38   242401      1338\n",
       "3 2019-08-02     B      45      43   266748      1294\n",
       "4 2019-08-03     A      68      62   354874      1845"
      ]
     },
     "metadata": {},
     "output_type": "display_data"
    }
   ],
   "source": [
    "#общая кумулятивная таблица данных\n",
    "cumulative_data = orders_aggregated.merge(visitors_aggregated, left_on = ['date','group'], right_on = ['date','group'])\n",
    "cumulative_data.columns = ['date', 'group', 'orders', 'buyers', 'revenue', 'visitors']\n",
    "display(cumulative_data.head())"
   ]
  },
  {
   "cell_type": "code",
   "execution_count": 17,
   "metadata": {},
   "outputs": [
    {
     "data": {
      "text/html": [
       "<div>\n",
       "<style scoped>\n",
       "    .dataframe tbody tr th:only-of-type {\n",
       "        vertical-align: middle;\n",
       "    }\n",
       "\n",
       "    .dataframe tbody tr th {\n",
       "        vertical-align: top;\n",
       "    }\n",
       "\n",
       "    .dataframe thead th {\n",
       "        text-align: right;\n",
       "    }\n",
       "</style>\n",
       "<table border=\"1\" class=\"dataframe\">\n",
       "  <thead>\n",
       "    <tr style=\"text-align: right;\">\n",
       "      <th></th>\n",
       "      <th>orders</th>\n",
       "      <th>date</th>\n",
       "      <th>revenue</th>\n",
       "    </tr>\n",
       "  </thead>\n",
       "  <tbody>\n",
       "    <tr>\n",
       "      <td>0</td>\n",
       "      <td>24</td>\n",
       "      <td>2019-08-01</td>\n",
       "      <td>148579</td>\n",
       "    </tr>\n",
       "    <tr>\n",
       "      <td>2</td>\n",
       "      <td>44</td>\n",
       "      <td>2019-08-02</td>\n",
       "      <td>242401</td>\n",
       "    </tr>\n",
       "    <tr>\n",
       "      <td>4</td>\n",
       "      <td>68</td>\n",
       "      <td>2019-08-03</td>\n",
       "      <td>354874</td>\n",
       "    </tr>\n",
       "    <tr>\n",
       "      <td>6</td>\n",
       "      <td>84</td>\n",
       "      <td>2019-08-04</td>\n",
       "      <td>425699</td>\n",
       "    </tr>\n",
       "    <tr>\n",
       "      <td>8</td>\n",
       "      <td>109</td>\n",
       "      <td>2019-08-05</td>\n",
       "      <td>549917</td>\n",
       "    </tr>\n",
       "  </tbody>\n",
       "</table>\n",
       "</div>"
      ],
      "text/plain": [
       "   orders       date  revenue\n",
       "0      24 2019-08-01   148579\n",
       "2      44 2019-08-02   242401\n",
       "4      68 2019-08-03   354874\n",
       "6      84 2019-08-04   425699\n",
       "8     109 2019-08-05   549917"
      ]
     },
     "metadata": {},
     "output_type": "display_data"
    }
   ],
   "source": [
    "# Кумулятивная выручка по группам\n",
    "cumulative_revenueA = cumulative_data[cumulative_data['group'] == 'A'][['orders', 'date', 'revenue']]\n",
    "display(cumulative_revenueA.head())"
   ]
  },
  {
   "cell_type": "code",
   "execution_count": 18,
   "metadata": {},
   "outputs": [
    {
     "data": {
      "text/html": [
       "<div>\n",
       "<style scoped>\n",
       "    .dataframe tbody tr th:only-of-type {\n",
       "        vertical-align: middle;\n",
       "    }\n",
       "\n",
       "    .dataframe tbody tr th {\n",
       "        vertical-align: top;\n",
       "    }\n",
       "\n",
       "    .dataframe thead th {\n",
       "        text-align: right;\n",
       "    }\n",
       "</style>\n",
       "<table border=\"1\" class=\"dataframe\">\n",
       "  <thead>\n",
       "    <tr style=\"text-align: right;\">\n",
       "      <th></th>\n",
       "      <th>orders</th>\n",
       "      <th>date</th>\n",
       "      <th>revenue</th>\n",
       "    </tr>\n",
       "  </thead>\n",
       "  <tbody>\n",
       "    <tr>\n",
       "      <td>1</td>\n",
       "      <td>21</td>\n",
       "      <td>2019-08-01</td>\n",
       "      <td>101217</td>\n",
       "    </tr>\n",
       "    <tr>\n",
       "      <td>3</td>\n",
       "      <td>45</td>\n",
       "      <td>2019-08-02</td>\n",
       "      <td>266748</td>\n",
       "    </tr>\n",
       "    <tr>\n",
       "      <td>5</td>\n",
       "      <td>61</td>\n",
       "      <td>2019-08-03</td>\n",
       "      <td>380996</td>\n",
       "    </tr>\n",
       "    <tr>\n",
       "      <td>7</td>\n",
       "      <td>78</td>\n",
       "      <td>2019-08-04</td>\n",
       "      <td>489567</td>\n",
       "    </tr>\n",
       "    <tr>\n",
       "      <td>9</td>\n",
       "      <td>101</td>\n",
       "      <td>2019-08-05</td>\n",
       "      <td>581995</td>\n",
       "    </tr>\n",
       "  </tbody>\n",
       "</table>\n",
       "</div>"
      ],
      "text/plain": [
       "   orders       date  revenue\n",
       "1      21 2019-08-01   101217\n",
       "3      45 2019-08-02   266748\n",
       "5      61 2019-08-03   380996\n",
       "7      78 2019-08-04   489567\n",
       "9     101 2019-08-05   581995"
      ]
     },
     "metadata": {},
     "output_type": "display_data"
    }
   ],
   "source": [
    "cumulative_revenueB = cumulative_data[cumulative_data['group'] == 'B'][['orders', 'date', 'revenue']]\n",
    "display(cumulative_revenueB.head())"
   ]
  },
  {
   "cell_type": "code",
   "execution_count": 19,
   "metadata": {},
   "outputs": [
    {
     "data": {
      "image/png": "[encoded data removed]",
      "text/plain": [
       "<Figure size 432x288 with 1 Axes>"
      ]
     },
     "metadata": {
      "needs_background": "light"
     },
     "output_type": "display_data"
    }
   ],
   "source": [
    "# График\n",
    "fig, ax = plt.subplots()\n",
    "ax.xaxis.set_tick_params(rotation = 30)\n",
    "plt.plot(cumulative_revenueA['date'], cumulative_revenueA['revenue'], label='A')\n",
    "plt.plot(cumulative_revenueB['date'], cumulative_revenueB['revenue'], label='B')\n",
    "plt.title('График кумулятивной выручки по группам')\n",
    "plt.xlabel('дата')\n",
    "plt.ylabel('выручка')\n",
    "plt.legend() \n",
    "plt.show()"
   ]
  },
  {
   "cell_type": "markdown",
   "metadata": {},
   "source": [
    "##### Выводы"
   ]
  },
  {
   "cell_type": "markdown",
   "metadata": {},
   "source": [
    "Равномерное увеличение выручки в течение всего теста. \n",
    "Графики выручки группы B в одной точке резко растет. Возможно увеличилось количество заказов или появились очень дорогие заказы."
   ]
  },
  {
   "cell_type": "markdown",
   "metadata": {},
   "source": [
    "#### 3.2 График кумулятивного среднего чека по группам"
   ]
  },
  {
   "cell_type": "code",
   "execution_count": 20,
   "metadata": {},
   "outputs": [
    {
     "data": {
      "image/png": "[encoded data removed]",
      "text/plain": [
       "<Figure size 432x288 with 1 Axes>"
      ]
     },
     "metadata": {
      "needs_background": "light"
     },
     "output_type": "display_data"
    }
   ],
   "source": [
    "fig, ax = plt.subplots()\n",
    "ax.xaxis.set_tick_params(rotation = 30)\n",
    "plt.plot(cumulative_revenueA['date'], cumulative_revenueA['revenue'] / cumulative_revenueA['orders'] , label='A')\n",
    "plt.plot(cumulative_revenueB['date'], cumulative_revenueB['revenue'] / cumulative_revenueB['orders'] , label='B')\n",
    "plt.title('График кумулятивного среднего чека по группам')\n",
    "plt.xlabel('дата')\n",
    "plt.ylabel('средний чек')\n",
    "plt.legend() \n",
    "plt.show()"
   ]
  },
  {
   "cell_type": "markdown",
   "metadata": {},
   "source": [
    "##### Выводы"
   ]
  },
  {
   "cell_type": "markdown",
   "metadata": {},
   "source": [
    "Относительно равномерным средний чек становится ближе к концу теста: у группы A тенденция к повышению, у группы B падает. \n",
    "При детальном рассмотрении графика группы B видны достаточно резкие скачки, возможно появлялись непостоянные крупные заказы и за счет них появлялся всплеск. Ситуация графика группы А тоже имеет всплески, но не столь резкие."
   ]
  },
  {
   "cell_type": "markdown",
   "metadata": {},
   "source": [
    "#### 3.3 График относительного изменения кумулятивного среднего чека группы B к группе A"
   ]
  },
  {
   "cell_type": "code",
   "execution_count": 21,
   "metadata": {},
   "outputs": [
    {
     "data": {
      "image/png": "[encoded data removed]",
      "text/plain": [
       "<Figure size 432x288 with 1 Axes>"
      ]
     },
     "metadata": {
      "needs_background": "light"
     },
     "output_type": "display_data"
    }
   ],
   "source": [
    "total_cumulative_revenue = pd.merge(cumulative_revenueA, cumulative_revenueB, on = 'date', suffixes=['A', 'B'])\n",
    "\n",
    "fig, ax = plt.subplots()\n",
    "ax.xaxis.set_tick_params(rotation = 30)\n",
    "plt.plot(total_cumulative_revenue['date'], \n",
    "         (total_cumulative_revenue['revenueB'] / total_cumulative_revenue['ordersB']\n",
    "         )/(total_cumulative_revenue['revenueA'] / total_cumulative_revenue['ordersA']))\n",
    "plt.axhline(y=1, color='black', linestyle='--') \n",
    "plt.title('График относительного изменения кумулятивного среднего чека группы B к группе A')\n",
    "plt.xlabel('дата')\n",
    "plt.ylabel('относительный средний чек')\n",
    "plt.show()"
   ]
  },
  {
   "cell_type": "markdown",
   "metadata": {},
   "source": [
    "##### Выводы"
   ]
  },
  {
   "cell_type": "markdown",
   "metadata": {},
   "source": [
    "График имеет резкие скочки и падения, скорее всего влияние оказывают аномальные значения"
   ]
  },
  {
   "cell_type": "markdown",
   "metadata": {},
   "source": [
    "#### 3.4 График кумулятивной конверсии по группам"
   ]
  },
  {
   "cell_type": "code",
   "execution_count": 22,
   "metadata": {},
   "outputs": [],
   "source": [
    "cumulative_data['convertion'] = cumulative_data['orders'] / cumulative_data['visitors']\n",
    "cumulative_convertionA = cumulative_data[cumulative_data['group'] == 'A']\n",
    "cumulative_convertionB = cumulative_data[cumulative_data['group'] == 'B']\n"
   ]
  },
  {
   "cell_type": "code",
   "execution_count": 23,
   "metadata": {},
   "outputs": [
    {
     "data": {
      "image/png": "[encoded data removed]",
      "text/plain": [
       "<Figure size 432x288 with 1 Axes>"
      ]
     },
     "metadata": {
      "needs_background": "light"
     },
     "output_type": "display_data"
    }
   ],
   "source": [
    "fig, ax = plt.subplots()\n",
    "ax.xaxis.set_tick_params(rotation = 30)\n",
    "plt.plot(cumulative_convertionA['date'], cumulative_convertionA['convertion'], label='A')\n",
    "plt.plot(cumulative_convertionB['date'], cumulative_convertionB['convertion'], label='B')\n",
    "plt.legend() \n",
    "plt.title('График кумулятивной конверсии по группам')\n",
    "plt.xlabel('дата')\n",
    "plt.ylabel('конверсия')\n",
    "plt.show()"
   ]
  },
  {
   "cell_type": "markdown",
   "metadata": {},
   "source": [
    "##### Выводы"
   ]
  },
  {
   "cell_type": "markdown",
   "metadata": {},
   "source": [
    "Практически симметричный график получился. Скачки в группах происходят примерно в одно и тоже время."
   ]
  },
  {
   "cell_type": "markdown",
   "metadata": {},
   "source": [
    "#### 3.5 График относительного изменения кумулятивной конверсии группы B к группе A"
   ]
  },
  {
   "cell_type": "code",
   "execution_count": 24,
   "metadata": {},
   "outputs": [
    {
     "data": {
      "image/png": "[encoded data removed]",
      "text/plain": [
       "<Figure size 432x288 with 1 Axes>"
      ]
     },
     "metadata": {
      "needs_background": "light"
     },
     "output_type": "display_data"
    }
   ],
   "source": [
    "total_cumulative_convertion = pd.merge(cumulative_convertionA, cumulative_convertionB, on = 'date', suffixes=['A', 'B'])\n",
    "\n",
    "fig, ax = plt.subplots()\n",
    "ax.xaxis.set_tick_params(rotation = 30)\n",
    "\n",
    "plt.plot(total_cumulative_convertion['date'],\n",
    "         total_cumulative_convertion['convertionB']/total_cumulative_convertion['convertionA'])\n",
    "plt.title('График относительного изменения кумулятивной конверсии группы B к группе A')\n",
    "plt.axhline(y=1.13, color='black', linestyle='--')\n",
    "plt.axhline(y=1.05, color='grey', linestyle='--')\n",
    "plt.xlabel('дата')\n",
    "plt.ylabel('конверсия')\n",
    "plt.show()"
   ]
  },
  {
   "cell_type": "markdown",
   "metadata": {},
   "source": [
    "##### Выводы"
   ]
  },
  {
   "cell_type": "markdown",
   "metadata": {},
   "source": [
    "График относительного изменения кумулятивной конверсии говорит о том, что результаты группы B лучше группы A: хоть и скачут, но имеют тенденцию к росту в отличии от угасающего графика группы А, показатели не стабилизоравались."
   ]
  },
  {
   "cell_type": "markdown",
   "metadata": {},
   "source": [
    "#### 3.6 Точечный график количества заказов по пользователям"
   ]
  },
  {
   "cell_type": "code",
   "execution_count": 25,
   "metadata": {},
   "outputs": [],
   "source": [
    "orders_users = (\n",
    "    orders.drop(['group', 'revenue', 'date'], axis=1)\n",
    "    .groupby('visitor_id', as_index=False)\n",
    "    .agg({'transaction_id': pd.Series.nunique})\n",
    ")\n",
    "orders_users.columns = ['visitor_id', 'orders']"
   ]
  },
  {
   "cell_type": "code",
   "execution_count": 26,
   "metadata": {},
   "outputs": [
    {
     "data": {
      "image/png": "[encoded data removed]",
      "text/plain": [
       "<Figure size 432x288 with 1 Axes>"
      ]
     },
     "metadata": {
      "needs_background": "light"
     },
     "output_type": "display_data"
    }
   ],
   "source": [
    "x_values = pd.Series(range(0,len(orders_users)))\n",
    "\n",
    "plt.scatter(x_values, orders_users['orders'])\n",
    "\n",
    "plt.title('График количества заказов по пользователям')\n",
    "plt.xlabel('количество пользователей')\n",
    "plt.ylabel('число заказов')\n",
    "plt.show()"
   ]
  },
  {
   "cell_type": "markdown",
   "metadata": {},
   "source": [
    "##### Выводы"
   ]
  },
  {
   "cell_type": "markdown",
   "metadata": {},
   "source": [
    "Большинство пользователей пользователей с 1-2 заказами."
   ]
  },
  {
   "cell_type": "markdown",
   "metadata": {},
   "source": [
    "#### 3.7 Посчитаем 95-й и 99-й перцентили количества заказов на пользователя"
   ]
  },
  {
   "cell_type": "code",
   "execution_count": 27,
   "metadata": {},
   "outputs": [
    {
     "name": "stdout",
     "output_type": "stream",
     "text": [
      "95-й и 99-й перцентили количества заказов на пользователя\n",
      "[2. 4.]\n"
     ]
    }
   ],
   "source": [
    "print('95-й и 99-й перцентили количества заказов на пользователя')\n",
    "print(np.percentile(orders_users['orders'], [95,99])) "
   ]
  },
  {
   "cell_type": "markdown",
   "metadata": {},
   "source": [
    "##### Выводы"
   ]
  },
  {
   "cell_type": "markdown",
   "metadata": {},
   "source": [
    "Не более 5% пользователей оформляли больше чем 2 заказа. И 1% пользователей заказывали более 4 раз. Для дальнейшей работы целесообразно отсечь аномальные данные по количеству заказов больше 2."
   ]
  },
  {
   "cell_type": "markdown",
   "metadata": {},
   "source": [
    "#### 3.8 Точечный график стоимостей заказов."
   ]
  },
  {
   "cell_type": "code",
   "execution_count": 28,
   "metadata": {},
   "outputs": [
    {
     "data": {
      "image/png": "[encoded data removed]",
      "text/plain": [
       "<Figure size 432x288 with 1 Axes>"
      ]
     },
     "metadata": {
      "needs_background": "light"
     },
     "output_type": "display_data"
    }
   ],
   "source": [
    "x_values = pd.Series(range(0,len(orders)))\n",
    "plt.scatter(x_values, orders['revenue'])\n",
    "plt.title('График стоимостей заказов')\n",
    "plt.xlabel('количество заказов')\n",
    "plt.ylabel('стоимость заказов')\n",
    "plt.axhline(y=60000, color='black', linestyle='--')\n",
    "plt.show()"
   ]
  },
  {
   "cell_type": "code",
   "execution_count": 29,
   "metadata": {},
   "outputs": [
    {
     "data": {
      "image/png": "[encoded data removed]",
      "text/plain": [
       "<Figure size 432x288 with 1 Axes>"
      ]
     },
     "metadata": {
      "needs_background": "light"
     },
     "output_type": "display_data"
    }
   ],
   "source": [
    "# добавим ограничения по стоимости и детальнее рассмотрим график\n",
    "x_values = pd.Series(range(0,len(orders)))\n",
    "plt.ylim([0, 100000])\n",
    "plt.scatter(x_values, orders['revenue'])\n",
    "plt.title('График стоимостей заказов')\n",
    "plt.xlabel('количество заказов')\n",
    "plt.ylabel('стоимость заказов')\n",
    "plt.axhline(y=22000, color='black', linestyle='--')\n",
    "plt.show()"
   ]
  },
  {
   "cell_type": "markdown",
   "metadata": {},
   "source": [
    "##### Выводы"
   ]
  },
  {
   "cell_type": "markdown",
   "metadata": {},
   "source": [
    "Большинство заказов стоимостью до 60000. На графике визуально определяются выбросы стоимостью более  200000 и 1000000."
   ]
  },
  {
   "cell_type": "markdown",
   "metadata": {},
   "source": [
    "#### 3.9 Посчитаем 95-й и 99-й перцентили стоимости заказов. "
   ]
  },
  {
   "cell_type": "code",
   "execution_count": 30,
   "metadata": {},
   "outputs": [
    {
     "name": "stdout",
     "output_type": "stream",
     "text": [
      "95-й и 99-й перцентили стоимости заказов\n",
      "[28000.  58233.2]\n"
     ]
    }
   ],
   "source": [
    "print('95-й и 99-й перцентили стоимости заказов')\n",
    "print(np.percentile(orders['revenue'], [95,99])) "
   ]
  },
  {
   "cell_type": "markdown",
   "metadata": {},
   "source": [
    "##### Выводы"
   ]
  },
  {
   "cell_type": "markdown",
   "metadata": {},
   "source": [
    "Не более 5% пользователей оформляли заказ стоимостью 28000. И около 1% пользователей делали заказы стоимотью около 58000. Для дальнейшей работы целесообразно отсечь аномальные данные по заказам выше 28000р."
   ]
  },
  {
   "cell_type": "markdown",
   "metadata": {},
   "source": [
    "#### 3.10 Статистическая значимость различий в конверсии между группами по «сырым» данным"
   ]
  },
  {
   "cell_type": "markdown",
   "metadata": {},
   "source": [
    "- H0: Статистическая значимость равенства конверсии между группами\n",
    "- H1: Статистическая значимость различий в конверсии между группами"
   ]
  },
  {
   "cell_type": "code",
   "execution_count": 31,
   "metadata": {},
   "outputs": [
    {
     "name": "stdout",
     "output_type": "stream",
     "text": [
      "   visitor_id  orders\n",
      "0     8300375       1\n",
      "1    11685486       1\n",
      "2    54447517       1\n",
      "3    66685450       1\n",
      "4    78758296       1    visitor_id  orders\n",
      "0     5114589       1\n",
      "1     6958315       1\n",
      "2     8300375       1\n",
      "3    39475350       1\n",
      "4    47206413       1\n"
     ]
    }
   ],
   "source": [
    "# Критический уровень статистической значимости\n",
    "alpha = 0.05  \n",
    "\n",
    "# Число заказов каждого пользователя\n",
    "orders_users_A = (\n",
    "    orders[orders['group'] == 'A']\n",
    "    .groupby('visitor_id', as_index=False)\n",
    "    .agg({'transaction_id': pd.Series.nunique})\n",
    ")\n",
    "orders_users_A.columns = ['visitor_id', 'orders']\n",
    "\n",
    "\n",
    "orders_users_B = (\n",
    "    orders[orders['group'] == 'B']\n",
    "    .groupby('visitor_id', as_index=False)\n",
    "    .agg({'transaction_id': pd.Series.nunique})\n",
    ")\n",
    "orders_users_B.columns = ['visitor_id', 'orders']\n",
    "\n",
    "\n",
    "print(orders_users_A.head(), orders_users_B.head())\n",
    "\n",
    "#display(orders_users_B.head())\n"
   ]
  },
  {
   "cell_type": "code",
   "execution_count": 32,
   "metadata": {},
   "outputs": [
    {
     "data": {
      "text/html": [
       "<div>\n",
       "<style scoped>\n",
       "    .dataframe tbody tr th:only-of-type {\n",
       "        vertical-align: middle;\n",
       "    }\n",
       "\n",
       "    .dataframe tbody tr th {\n",
       "        vertical-align: top;\n",
       "    }\n",
       "\n",
       "    .dataframe thead th {\n",
       "        text-align: right;\n",
       "    }\n",
       "</style>\n",
       "<table border=\"1\" class=\"dataframe\">\n",
       "  <thead>\n",
       "    <tr style=\"text-align: right;\">\n",
       "      <th></th>\n",
       "      <th>date</th>\n",
       "      <th>group</th>\n",
       "      <th>visitors</th>\n",
       "    </tr>\n",
       "  </thead>\n",
       "  <tbody>\n",
       "    <tr>\n",
       "      <td>0</td>\n",
       "      <td>2019-08-01</td>\n",
       "      <td>A</td>\n",
       "      <td>719</td>\n",
       "    </tr>\n",
       "    <tr>\n",
       "      <td>1</td>\n",
       "      <td>2019-08-02</td>\n",
       "      <td>A</td>\n",
       "      <td>619</td>\n",
       "    </tr>\n",
       "    <tr>\n",
       "      <td>2</td>\n",
       "      <td>2019-08-03</td>\n",
       "      <td>A</td>\n",
       "      <td>507</td>\n",
       "    </tr>\n",
       "    <tr>\n",
       "      <td>3</td>\n",
       "      <td>2019-08-04</td>\n",
       "      <td>A</td>\n",
       "      <td>717</td>\n",
       "    </tr>\n",
       "    <tr>\n",
       "      <td>4</td>\n",
       "      <td>2019-08-05</td>\n",
       "      <td>A</td>\n",
       "      <td>756</td>\n",
       "    </tr>\n",
       "  </tbody>\n",
       "</table>\n",
       "</div>"
      ],
      "text/plain": [
       "        date group  visitors\n",
       "0 2019-08-01     A       719\n",
       "1 2019-08-02     A       619\n",
       "2 2019-08-03     A       507\n",
       "3 2019-08-04     A       717\n",
       "4 2019-08-05     A       756"
      ]
     },
     "metadata": {},
     "output_type": "display_data"
    },
    {
     "data": {
      "text/html": [
       "<div>\n",
       "<style scoped>\n",
       "    .dataframe tbody tr th:only-of-type {\n",
       "        vertical-align: middle;\n",
       "    }\n",
       "\n",
       "    .dataframe tbody tr th {\n",
       "        vertical-align: top;\n",
       "    }\n",
       "\n",
       "    .dataframe thead th {\n",
       "        text-align: right;\n",
       "    }\n",
       "</style>\n",
       "<table border=\"1\" class=\"dataframe\">\n",
       "  <thead>\n",
       "    <tr style=\"text-align: right;\">\n",
       "      <th></th>\n",
       "      <th>date</th>\n",
       "      <th>group</th>\n",
       "      <th>visitors</th>\n",
       "    </tr>\n",
       "  </thead>\n",
       "  <tbody>\n",
       "    <tr>\n",
       "      <td>31</td>\n",
       "      <td>2019-08-01</td>\n",
       "      <td>B</td>\n",
       "      <td>713</td>\n",
       "    </tr>\n",
       "    <tr>\n",
       "      <td>32</td>\n",
       "      <td>2019-08-02</td>\n",
       "      <td>B</td>\n",
       "      <td>581</td>\n",
       "    </tr>\n",
       "    <tr>\n",
       "      <td>33</td>\n",
       "      <td>2019-08-03</td>\n",
       "      <td>B</td>\n",
       "      <td>509</td>\n",
       "    </tr>\n",
       "    <tr>\n",
       "      <td>34</td>\n",
       "      <td>2019-08-04</td>\n",
       "      <td>B</td>\n",
       "      <td>770</td>\n",
       "    </tr>\n",
       "    <tr>\n",
       "      <td>35</td>\n",
       "      <td>2019-08-05</td>\n",
       "      <td>B</td>\n",
       "      <td>707</td>\n",
       "    </tr>\n",
       "  </tbody>\n",
       "</table>\n",
       "</div>"
      ],
      "text/plain": [
       "         date group  visitors\n",
       "31 2019-08-01     B       713\n",
       "32 2019-08-02     B       581\n",
       "33 2019-08-03     B       509\n",
       "34 2019-08-04     B       770\n",
       "35 2019-08-05     B       707"
      ]
     },
     "metadata": {},
     "output_type": "display_data"
    }
   ],
   "source": [
    "# Количество посетителей по группам\n",
    "visitors_A = visitors[visitors['group'] =='A']\n",
    "visitors_B = visitors[visitors['group'] =='B']\n",
    "\n",
    "display(visitors_A.head())\n",
    "display(visitors_B.head())"
   ]
  },
  {
   "cell_type": "code",
   "execution_count": 33,
   "metadata": {},
   "outputs": [],
   "source": [
    "# Количество заказов по группам\n",
    "sample_A = pd.concat([orders_users_A['orders'], \n",
    "                      pd.Series(0, index=np.arange(\n",
    "                          visitors_A['visitors'].sum() - len(orders_users_A['orders'])\n",
    "                      ), name='orders')],axis=0)\n",
    "\n",
    "\n",
    "sample_B = pd.concat([orders_users_B['orders'], \n",
    "                      pd.Series(0, index=np.arange(\n",
    "                          visitors_B['visitors'].sum() - len(orders_users_B['orders'])\n",
    "                      ), name='orders')],axis=0)\n"
   ]
  },
  {
   "cell_type": "code",
   "execution_count": 34,
   "metadata": {},
   "outputs": [
    {
     "name": "stdout",
     "output_type": "stream",
     "text": [
      "p-value 0.017\n",
      "Относительный прирост конверсии группы B 0.138\n"
     ]
    }
   ],
   "source": [
    "# Проверка критерием Манна-Уитни\n",
    "print(\"p-value {0:.3f}\".format(stats.mannwhitneyu(sample_A, sample_B, alternative='two-sided')[1]))\n",
    "\n",
    "print(\"Относительный прирост конверсии группы B {0:.3f}\".format(sample_B.mean() / sample_A.mean() - 1))\n"
   ]
  },
  {
   "cell_type": "markdown",
   "metadata": {},
   "source": [
    "##### Выводы"
   ]
  },
  {
   "cell_type": "markdown",
   "metadata": {},
   "source": [
    "p-value = 0.017 меньше 0.05(критический уровень статистической значимости). Значит, нулевая гипотеза  отвергается, конверсии различны. Относительный выйгрыш по конверсии группы B равен 13.8%. Тест рекомендуется повторить после исключения аномальных данных из выборки."
   ]
  },
  {
   "cell_type": "markdown",
   "metadata": {},
   "source": [
    "#### 3.11 Статистическая значимость различий в среднем чеке заказа между группами по «сырым» данным"
   ]
  },
  {
   "cell_type": "markdown",
   "metadata": {},
   "source": [
    "- H0: Статистическая значимость равенства среднего чека между группами\n",
    "- H1: Статистическая значимость различий среднего чека между группами"
   ]
  },
  {
   "cell_type": "code",
   "execution_count": 35,
   "metadata": {},
   "outputs": [
    {
     "name": "stdout",
     "output_type": "stream",
     "text": [
      "p-value 0.729\n",
      "Относительный прирост среднего чека группы B 0.259\n"
     ]
    }
   ],
   "source": [
    "#Проверим гипотезу о статист- H0: Статистическая значимость различий в конверсии между группами\n",
    "\n",
    "print('p-value {0:.3f}'.format(stats.mannwhitneyu(\n",
    "    orders[orders['group']=='A']['revenue'], \n",
    "    orders[orders['group']=='B']['revenue'], alternative='two-sided')[1]))\n",
    "print('Относительный прирост среднего чека группы B {0:.3f}'.format(orders[\n",
    "    orders['group']=='B']['revenue'].mean()/orders[\n",
    "    orders['group']=='A']['revenue'].mean()-1))"
   ]
  },
  {
   "cell_type": "markdown",
   "metadata": {},
   "source": [
    "##### Выводы"
   ]
  },
  {
   "cell_type": "markdown",
   "metadata": {},
   "source": [
    "p-value = 0.729 больше 0.05(критический уровень статистической значимости). Значит, нулевая гипотеза подтверждается, средний чек одинаковый. Относительный выйгрыш по среднему чеку группы B равен 25.9%. Тест рекомендуется повторить после исключения аномальных данных из выборки."
   ]
  },
  {
   "cell_type": "markdown",
   "metadata": {},
   "source": [
    "#### 3.12 Статистическая значимость различий в конверсии между группами по «очищенным» данным"
   ]
  },
  {
   "cell_type": "markdown",
   "metadata": {},
   "source": [
    "- H0: Статистическая значимость равенства конверсии между группами\n",
    "- H1: Статистическая значимость различий в конверсии между группами"
   ]
  },
  {
   "cell_type": "code",
   "execution_count": 36,
   "metadata": {},
   "outputs": [],
   "source": [
    "orders_anomaly = pd.concat(\n",
    "    [\n",
    "        orders_users_A[orders_users_A['orders'] > 2]['visitor_id'],\n",
    "        orders_users_B[orders_users_B['orders'] > 2]['visitor_id'],\n",
    "    ],\n",
    "    axis=0,\n",
    ")\n",
    "revenue_anomaly = orders[orders['revenue'] > 28000]['visitor_id']\n",
    "users_anomaly  = (\n",
    "    pd.concat([orders_anomaly, revenue_anomaly], axis=0)\n",
    "    .drop_duplicates()\n",
    "    .sort_values()\n",
    ")\n",
    "#print(users_anomaly.head(5))\n",
    "#print(users_anomaly.shape) "
   ]
  },
  {
   "cell_type": "code",
   "execution_count": 37,
   "metadata": {},
   "outputs": [],
   "source": [
    "# 'Очищенное' количество заказов по группам\n",
    "clear_sample_A = pd.concat(\n",
    "    [\n",
    "        orders_users_A[\n",
    "            np.logical_not(orders_users_A['visitor_id'].isin(users_anomaly))\n",
    "        ]['orders'],\n",
    "        pd.Series(\n",
    "            0,\n",
    "            index=np.arange(\n",
    "                visitors_A['visitors'].sum() - len(orders_users_A['orders'])\n",
    "            ),\n",
    "            name='orders',\n",
    "        ),\n",
    "    ],\n",
    "    axis=0,\n",
    ")\n",
    "\n",
    "clear_sample_B = pd.concat(\n",
    "    [\n",
    "        orders_users_B[\n",
    "            np.logical_not(orders_users_B['visitor_id'].isin(users_anomaly))\n",
    "        ]['orders'],\n",
    "        pd.Series(\n",
    "            0,\n",
    "            index=np.arange(\n",
    "                visitors_B['visitors'].sum() - len(orders_users_B['orders'])\n",
    "            ),\n",
    "            name='orders',\n",
    "        ),\n",
    "    ],\n",
    "    axis=0,\n",
    ")"
   ]
  },
  {
   "cell_type": "code",
   "execution_count": 38,
   "metadata": {},
   "outputs": [
    {
     "name": "stdout",
     "output_type": "stream",
     "text": [
      "p-value 0.013\n",
      "Относительный прирост конверсии группы B 0.173\n"
     ]
    }
   ],
   "source": [
    "# Проверка критерием Манна-Уитни\n",
    "print(\"p-value {0:.3f}\".format(stats.mannwhitneyu(clear_sample_A, clear_sample_B, alternative='two-sided')[1]))\n",
    "\n",
    "print(\"Относительный прирост конверсии группы B {0:.3f}\".format(clear_sample_B.mean() / clear_sample_A.mean() - 1))\n"
   ]
  },
  {
   "cell_type": "markdown",
   "metadata": {},
   "source": [
    "##### Выводы"
   ]
  },
  {
   "cell_type": "markdown",
   "metadata": {},
   "source": [
    "p-value = 0.013 меньше 0.05(критический уровень статистической значимости). Значит, нулевая гипотеза  не подтверждается, конверсии разные. После \"очистки\" данных относительный выйгрыш по конверсии группы B стал  17,3%. "
   ]
  },
  {
   "cell_type": "markdown",
   "metadata": {},
   "source": [
    "#### 3.13 Статистическая значимость различий в среднем чеке заказа между группами по «очищенным» данным"
   ]
  },
  {
   "cell_type": "markdown",
   "metadata": {},
   "source": [
    "- H0: Статистическая значимость равенства среднего чека между группами\n",
    "- H1: Статистическая значимость различий среднего чека между группами"
   ]
  },
  {
   "cell_type": "code",
   "execution_count": 39,
   "metadata": {},
   "outputs": [
    {
     "name": "stdout",
     "output_type": "stream",
     "text": [
      "p-value 0.738\n",
      "Относительный прирост среднего чека группы B -0.020\n"
     ]
    }
   ],
   "source": [
    "#Проверим гипотезу о статистической значимости различий в среднем чеке по 'очищенным' данным\n",
    "print(\n",
    "    'p-value {0:.3f}'.format(\n",
    "        stats.mannwhitneyu(\n",
    "            orders[\n",
    "                np.logical_and(\n",
    "                    orders['group'] == 'A',\n",
    "                    np.logical_not(orders['visitor_id'].isin(users_anomaly)),\n",
    "                )\n",
    "            ]['revenue'],\n",
    "            orders[\n",
    "                np.logical_and(\n",
    "                    orders['group'] == 'B',\n",
    "                    np.logical_not(orders['visitor_id'].isin(users_anomaly)),\n",
    "                )\n",
    "            ]['revenue'], alternative='two-sided'\n",
    "        )[1]\n",
    "    )\n",
    ")\n",
    "\n",
    "print(\n",
    "    \"Относительный прирост среднего чека группы B {0:.3f}\".format(\n",
    "        orders[\n",
    "            np.logical_and(\n",
    "                orders['group'] == 'B',\n",
    "                np.logical_not(orders['visitor_id'].isin(users_anomaly)),\n",
    "            )\n",
    "        ]['revenue'].mean()\n",
    "        / orders[\n",
    "            np.logical_and(\n",
    "                orders['group'] == 'A',\n",
    "                np.logical_not(orders['visitor_id'].isin(users_anomaly)),\n",
    "            )\n",
    "        ]['revenue'].mean()\n",
    "        - 1\n",
    "    )\n",
    ") "
   ]
  },
  {
   "cell_type": "markdown",
   "metadata": {},
   "source": [
    "##### Выводы"
   ]
  },
  {
   "cell_type": "markdown",
   "metadata": {},
   "source": [
    "p-value = 0.738 больше 0.05(критический уровень статистической значимости). Значит, нулевая гипотеза подтверждается, средний чек одинаковый. После \"очистки\" данных относительный выйгрыш по среднему чеку группы B сменился на пройгрыш в 2%. "
   ]
  },
  {
   "cell_type": "markdown",
   "metadata": {},
   "source": [
    "#### 3.14 Принятие решения по результатам теста и объясните его. Варианты решений: \n",
    "1. Остановить тест, зафиксировать победу одной из групп. \n",
    "2. Остановить тест, зафиксировать отсутствие различий между группами. \n",
    "3. Продолжить тест."
   ]
  },
  {
   "cell_type": "markdown",
   "metadata": {},
   "source": [
    "##### Выводы"
   ]
  },
  {
   "cell_type": "markdown",
   "metadata": {},
   "source": [
    "Принято решение остановить тест"
   ]
  },
  {
   "cell_type": "markdown",
   "metadata": {},
   "source": [
    "### 4. Выводы и рекомендации"
   ]
  },
  {
   "cell_type": "markdown",
   "metadata": {},
   "source": [
    "В результате тестирования выяснилось следующее:\n",
    "- Статистически значимое различие по конверсии между группами есть по «сырым» и «очищенным» данным;\n",
    "- Прирост по конверссии по «сырым» данным 13.8%, а по данным после фильтрации около 17,3%\n",
    "- Нет статистически значимого различия по среднему чеку между группами ни по «сырым», ни по данным после фильтрации аномалий;\n",
    "- Прирост по среднему чеку по «сырым» данным 25.9%, а по данным после фильтрации аномалий проигрыш составляет около 2%\n",
    "- График различия конверсии между группами сообщает, что результаты группы B лучше группы A, однако показатели не стабилизоравались.\n",
    "- График различия среднего чека говорит о том, что результаты группы B  значительно лучше группы А, однако в данных присутствуют большие выбросы и опираться на данное исследование было бы ошибочно.\n",
    "\n",
    "Исходя из обнаруженных фактов, тест следует остановить и признать группу B лучше. Даже с учетом отсутствия положительных различий между группами, увеличение выручки будет достигаться за счет увеленчения конверсии. Гипотезы для увеличения выручки следует воплощать по приоретизации фремворка RICE."
   ]
  },
  {
   "cell_type": "code",
   "execution_count": null,
   "metadata": {},
   "outputs": [],
   "source": []
  }
 ],
 "metadata": {
  "kernelspec": {
   "display_name": "Python 3",
   "language": "python",
   "name": "python3"
  },
  "language_info": {
   "codemirror_mode": {
    "name": "ipython",
    "version": 3
   },
   "file_extension": ".py",
   "mimetype": "text/x-python",
   "name": "python",
   "nbconvert_exporter": "python",
   "pygments_lexer": "ipython3",
   "version": "3.7.8"
  },
  "toc": {
   "base_numbering": 1,
   "nav_menu": {},
   "number_sections": false,
   "sideBar": true,
   "skip_h1_title": true,
   "title_cell": "Table of Contents",
   "title_sidebar": "Contents",
   "toc_cell": false,
   "toc_position": {
    "height": "calc(100% - 180px)",
    "left": "10px",
    "top": "150px",
    "width": "331.438px"
   },
   "toc_section_display": true,
   "toc_window_display": true
  }
 },
 "nbformat": 4,
 "nbformat_minor": 2
}
